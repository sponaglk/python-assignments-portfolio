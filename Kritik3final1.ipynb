{
 "cells": [
  {
   "cell_type": "code",
   "execution_count": 6,
   "id": "5be82ec6-f7a3-4204-9977-14b0865f08e8",
   "metadata": {},
   "outputs": [
    {
     "name": "stdout",
     "output_type": "stream",
     "text": [
      "(0.6837600000014392, 1.3162400000020718)\n",
      "(0.3778481633986249, 1.1427181633974066)\n",
      "(-0.1448500000000041, 0.13817999999999742)\n",
      "--- 0.3177938461303711 seconds ---\n"
     ]
    }
   ],
   "source": [
    "import time\n",
    "import numpy as np\n",
    "start_time = time.time( )\n",
    "def quadfxn(x):\n",
    "    return x**2\n",
    "\n",
    "def sinfxn(x):\n",
    "    return np.sin(x)\n",
    "\n",
    "def exponent(x):\n",
    "    return np.exp(x)\n",
    "\n",
    "def linapprox(f,c,E):\n",
    "    dx=1e-8\n",
    "    d=(f(c+dx)-f(c-dx))/(2*dx)\n",
    "\n",
    "    x1=c\n",
    "    x2=c\n",
    "\n",
    "    error1=abs(f(x1)-f(c)-(d*(x1-c)))\n",
    "    error2=abs(f(x2)-f(c)-(d*(x2-c)))\n",
    "\n",
    "    while error1<E:\n",
    "        error1=abs(f(x1)-f(c)-(d*(x1-c)))\n",
    "        x1-=1e-5\n",
    "\n",
    "        if time.time( )-start_time>30:\n",
    "            return \"Runtime > 30 seconds.\"\n",
    "    while error2<E:\n",
    "        error2=abs(f(x2)-f(c)-(d*(x2-c)))\n",
    "        x2+=1e-5\n",
    "\n",
    "        if time.time( )-start_time>30:\n",
    "            return \"Runtime > 30 seconds.\"\n",
    "\n",
    "    return float(x1), float(x2)\n",
    "\n",
    "print(linapprox(quadfxn,1,0.1))\n",
    "print(linapprox(sinfxn,np.pi/4,0.05))\n",
    "print(linapprox(exponent,0,0.01))\n",
    "print(\"--- %s seconds ---\" % (time.time( ) - start_time))"
   ]
  },
  {
   "cell_type": "code",
   "execution_count": null,
   "id": "eb45d5b7-f37d-4577-8b79-a7315748eee9",
   "metadata": {},
   "outputs": [],
   "source": []
  }
 ],
 "metadata": {
  "kernelspec": {
   "display_name": "Python 3 (ipykernel)",
   "language": "python",
   "name": "python3"
  },
  "language_info": {
   "codemirror_mode": {
    "name": "ipython",
    "version": 3
   },
   "file_extension": ".py",
   "mimetype": "text/x-python",
   "name": "python",
   "nbconvert_exporter": "python",
   "pygments_lexer": "ipython3",
   "version": "3.11.9"
  }
 },
 "nbformat": 4,
 "nbformat_minor": 5
}
