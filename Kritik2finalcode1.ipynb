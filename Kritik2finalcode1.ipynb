{
 "cells": [
  {
   "cell_type": "code",
   "execution_count": 8,
   "id": "25595fe3-aaf6-4413-8312-59c10141ab47",
   "metadata": {},
   "outputs": [
    {
     "name": "stdout",
     "output_type": "stream",
     "text": [
      "Root of f1 on [0.1, 1]: 0.2698741375294049\n",
      "Root of f2 on [0, 2]: 0\n",
      "Root of f3 on [3, 4]: 3.141592653642874\n",
      "Root of f4 on [5, 7]: None\n"
     ]
    }
   ],
   "source": [
    "import numpy as np\n",
    "\n",
    "def roots(f, a, b, tol=1e-10, maxi=1000):\n",
    "    if f(a) == 0:\n",
    "        return a\n",
    "    if f(b) == 0:\n",
    "        return b \n",
    "    if f(a) * f(b) >= 0:\n",
    "        return None\n",
    "        \n",
    "    i = 0\n",
    "    while (b - a) / 2 > tol and i < maxi:\n",
    "        c = (a + b) / 2\n",
    "        if f(c) == 0 or (b - a) / 2 < tol:\n",
    "            return c\n",
    "        iteration += 1\n",
    "        if f(a) * f(c) < 0:\n",
    "            b = c\n",
    "        else:\n",
    "            a = c\n",
    "    return (a + b) / 2\n",
    "\n",
    "def f1(x):\n",
    "    return np.exp(x) + np.log(x)\n",
    "def f2(x):\n",
    "    return np.arctan(x) - x**2\n",
    "\n",
    "def f3(x):\n",
    "    return np.sin(x) / np.log(x)\n",
    "    \n",
    "def f4(x):\n",
    "    return np.log(np.cos(x))\n",
    "    \n",
    "root1 = roots(f1, 0.1, 1) \n",
    "root2 = roots(f2, 0, 2)\n",
    "root3 = roots(f3, 3, 4)\n",
    "root4 = roots(f4, 5, 7)\n",
    "\n",
    "print(\"Root of f1 on [0.1, 1]:\", root1)\n",
    "print(\"Root of f2 on [0, 2]:\", root2) \n",
    "print(\"Root of f3 on [3, 4]:\", root3)\n",
    "print(\"Root of f4 on [5, 7]:\", root4)"
   ]
  },
  {
   "cell_type": "code",
   "execution_count": null,
   "id": "d2613da1-47ce-40e7-b8b3-e280631ee3bf",
   "metadata": {},
   "outputs": [],
   "source": []
  }
 ],
 "metadata": {
  "kernelspec": {
   "display_name": "Python 3 (ipykernel)",
   "language": "python",
   "name": "python3"
  },
  "language_info": {
   "codemirror_mode": {
    "name": "ipython",
    "version": 3
   },
   "file_extension": ".py",
   "mimetype": "text/x-python",
   "name": "python",
   "nbconvert_exporter": "python",
   "pygments_lexer": "ipython3",
   "version": "3.11.9"
  }
 },
 "nbformat": 4,
 "nbformat_minor": 5
}
