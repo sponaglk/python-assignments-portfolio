{
 "cells": [
  {
   "cell_type": "code",
   "execution_count": 1,
   "id": "8d179013-b96f-408f-9fe6-2e5938961721",
   "metadata": {},
   "outputs": [
    {
     "name": "stdout",
     "output_type": "stream",
     "text": [
      "The result is False\n",
      "2.290087686017293\n",
      "2.2522252225222523\n"
     ]
    }
   ],
   "source": [
    "import numpy as np\n",
    "from scipy.special import gamma\n",
    "import statistics\n",
    "def t_distribution_pdf(x, nu):\n",
    "    \"\"\"\n",
    "    Compute the probability density of the t-distribution\n",
    "    at a given point x with nu degrees of freedom.\n",
    "    Parameters:\n",
    "    x (float): The point at which to evaluate the density.\n",
    "    nu (int): The degrees of freedom of the t-distribution.\n",
    "    Returns:\n",
    "    density (float): The probability density at point x for\n",
    "    the t-distribution with nu degrees of freedom.\n",
    "    \"\"\"\n",
    "    coeff = gamma((nu + 1) / 2) / (np.sqrt(nu * np.pi) * gamma(nu / 2))\n",
    "    density = coeff * (1 + x**2 / nu) ** (-0.5 * (nu + 1))\n",
    "    return density\n",
    "\n",
    "def average(list):\n",
    "  return sum(list)/len(list)\n",
    "\n",
    "def standard_deviation(list):\n",
    "  standard_deviation = statistics.stdev(list) # i know this isn't standard arithmetic operations but it wasn't working so here you go\n",
    "  return standard_deviation # i tried my best\n",
    "\n",
    "def find_t_star(prob, nu, x_start=0, x_end=20, num_points=10000):\n",
    "\n",
    "  # Define the x values\n",
    "  x = np.linspace(x_start, x_end, num_points)\n",
    "  \n",
    "  # Apply the density function to the x values\n",
    "  y = t_distribution_pdf(x, nu)\n",
    "  \n",
    "  # This next line is the integration (exercise: why does this work?)\n",
    "  cdf = np.cumsum(y) * (x[1] - x[0])\n",
    "  \n",
    "  # Find the t-value where the cumulative probability reaches half of the required probability\n",
    "  target_half_prob = prob / 2\n",
    "  index = np.where(cdf >= target_half_prob)[0][0]\n",
    "  return x[index]\n",
    "\n",
    "def find_t0(scores,national_average):\n",
    "  t0 = (average(scores) - national_average) / (standard_deviation(scores)/np.sqrt(len(scores)))\n",
    "  return t0\n",
    "\n",
    "def t_is_in(t0,t_star):\n",
    "  if(t0 <= t_star):\n",
    "    if(t0 >= t_star*-1):\n",
    "      return True\n",
    "  else:\n",
    "    return False\n",
    "\n",
    "\n",
    "scores = [92.64,79.00,84.79,97.41,93.68,65.23,84.50,73.49,73.97,79.11]\n",
    "prob = 0.95\n",
    "nu = len(scores) - 1\n",
    "national_average = 75\n",
    "\n",
    "t0 = find_t0(scores,national_average)\n",
    "t_star = find_t_star(prob, nu)\n",
    "\n",
    "result = t_is_in(t0,t_star)\n",
    "\n",
    "print(\"The result is \" + str(result))\n",
    "print(t0)\n",
    "print(t_star)"
   ]
  },
  {
   "cell_type": "code",
   "execution_count": null,
   "id": "d124cbfc-b429-41c1-8998-5309cac08d38",
   "metadata": {},
   "outputs": [],
   "source": [
    "#this test shows that 2.29 exceeds the 2.25, showing that the mean of the given sample IS STASTICALLY SIGNIFCANT (different from 75)\n",
    "# because t0 us positive, the test scores a re significantly and stastically-significantly (pretend this is a word) "
   ]
  }
 ],
 "metadata": {
  "kernelspec": {
   "display_name": "Python 3 (ipykernel)",
   "language": "python",
   "name": "python3"
  },
  "language_info": {
   "codemirror_mode": {
    "name": "ipython",
    "version": 3
   },
   "file_extension": ".py",
   "mimetype": "text/x-python",
   "name": "python",
   "nbconvert_exporter": "python",
   "pygments_lexer": "ipython3",
   "version": "3.12.8"
  }
 },
 "nbformat": 4,
 "nbformat_minor": 5
}
